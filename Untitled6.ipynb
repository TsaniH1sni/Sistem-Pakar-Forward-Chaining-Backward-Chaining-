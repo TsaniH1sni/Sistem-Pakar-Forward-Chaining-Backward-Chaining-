{
  "nbformat": 4,
  "nbformat_minor": 0,
  "metadata": {
    "colab": {
      "provenance": []
    },
    "kernelspec": {
      "name": "python3",
      "display_name": "Python 3"
    },
    "language_info": {
      "name": "python"
    }
  },
  "cells": [
    {
      "cell_type": "code",
      "source": [
        "from experta import *\n",
        "\n",
        "class Diagnosis(KnowledgeEngine):\n",
        "\n",
        "  @Rule(Fact(cough=True) & Fact(fever=True) & Fact(fatigue=True))\n",
        "  def flu(self):\n",
        "    print(\"Diagnosis: Anda mungkin terkena flu.\")\n",
        "\n",
        "  @Rule(Fact(cough=True) & Fact(fever=True) & Fact(breathing_difficulty=True))\n",
        "  def pneumonia(self):\n",
        "    print(\"Diagnosis: Anda mungkin terkena Pneumonia.\")\n",
        "\n",
        "  @Rule(Fact(sneezing=True) & Fact(runny_nose=True) & Fact(cough=False))\n",
        "  def cold(self):\n",
        "    print(\"Diagnosis: Anda mungkin terkena pilek biasa.\")\n",
        "\n",
        "  @Rule(Fact(sore_throat=True) & Fact(fever=True))\n",
        "  def throat_infection(self):\n",
        "    print(\"Diagnosis: Anda mungkin terkena infeksi tenggorokan.\")\n",
        "\n",
        "  @Rule(Fact(cough=False) & Fact(fever=False) & Fact(fatigue=False))\n",
        "  def healthy(self):\n",
        "    print(\"Diagnosis: Anda mungkin tampak sehat.\")\n",
        "\n",
        "  @Rule(Fact(sneezing=True) & Fact(runny_nose=True) & Fact(fever=False))\n",
        "  def allergy(self):\n",
        "    print(\"Diagnosis: Anda mungkin mengalami alergi.\")\n",
        "\n",
        "  @Rule(Fact(cough=True) & Fact(fever=True) & Fact(loss_of_smell=True))\n",
        "  def covid(self):\n",
        "    print(\"Diagnosis: Anda mungkin terkena COVID-19.\")\n",
        "\n",
        "  @Rule(Fact(breathing_difficulty=True) & Fact(cough=True) & Fact(fever=False))\n",
        "  def asthma(self):\n",
        "    print(\"Diagnosis: Anda mungkin mengalami asma.\")\n",
        "\n",
        "  @Rule(Fact(nasal_congestion=True) & Fact(headache=True) & Fact(facial_pain=True))\n",
        "  def sinusitis(self):\n",
        "    print(\"Diagnosis: Anda mungkin mengalami sinusitis.\")\n",
        "\n",
        "def get_input():\n",
        "  \"\"\"Fungsi bantuan untuk mendapatkan input pengguna sebagai boolean (ya/tidak).\"\"\"\n",
        "  def ask_question(question):\n",
        "    return input(question + \" (ya/tidak): \").strip().lower() == \"ya\"\n",
        "\n",
        "  return {\n",
        "      \"cough\": ask_question(\"Apakah Anda batuk?\"),\n",
        "      \"fever\": ask_question(\"Apakah Anda demam?\"),\n",
        "      \"fatigue\": ask_question(\"Apakah Anda merasa lelah?\"),\n",
        "      \"breathing_difficulty\": ask_question(\"Apakah Anda mengalami kesulitan bernapas?\"),\n",
        "      \"sneezing\": ask_question(\"Apakah Anda bersin?\"),\n",
        "      \"runny_nose\": ask_question(\"Apakah hidung Anda berair?\"),\n",
        "      \"sore_throat\": ask_question(\"Apakah tenggorokan Anda sakit?\"),\n",
        "      \"loss_of_smell\": ask_question(\"Apakah Anda kehilangan indra penciuman?\"),\n",
        "      \"nasal_congestion\": ask_question(\"Apakah hidung Anda tersumbat?\"),\n",
        "      \"headache\": ask_question(\"Apakah Anda sakit kepala?\"),\n",
        "      \"facial_pain\": ask_question(\"Apakah Anda merasakan nyeri pada wajah?\")\n",
        "  }\n",
        "\n",
        "# Menjalankan Sistem Pakar\n",
        "# Memperbaiki kesalahan ketik pada __name__\n",
        "if __name__ == \"__main__\":\n",
        "  symptoms = get_input()\n",
        "  engine = Diagnosis()\n",
        "  engine.reset() # Mengatur ulang mesin pengetahuan\n",
        "\n",
        "  for symptom, present in symptoms.items():\n",
        "    engine.declare(Fact(**{symptom: present})) # Mendeklarasikan fakta\n",
        "\n",
        "  engine.run() # Menjalankan mesin inferensi\n"
      ],
      "metadata": {
        "colab": {
          "base_uri": "https://localhost:8080/"
        },
        "id": "vsi2F5eW5B6v",
        "outputId": "dccd0cab-4ceb-42ee-b779-21c63e8eb0f3"
      },
      "execution_count": 11,
      "outputs": [
        {
          "output_type": "stream",
          "name": "stdout",
          "text": [
            "Apakah Anda batuk? (ya/tidak): ya\n",
            "Apakah Anda demam? (ya/tidak): ya\n",
            "Apakah Anda merasa lelah? (ya/tidak): ya\n",
            "Apakah Anda mengalami kesulitan bernapas? (ya/tidak): tidak\n",
            "Apakah Anda bersin? (ya/tidak): ya\n",
            "Apakah hidung Anda berair? (ya/tidak): tidak\n",
            "Apakah tenggorokan Anda sakit? (ya/tidak): tidak\n",
            "Apakah Anda kehilangan indra penciuman? (ya/tidak): ya\n",
            "Apakah hidung Anda tersumbat? (ya/tidak): tidak\n",
            "Apakah Anda sakit kepala? (ya/tidak): ya\n",
            "Apakah Anda merasakan nyeri pada wajah? (ya/tidak): ya\n",
            "Diagnosis: Anda mungkin terkena COVID-19.\n",
            "Diagnosis: Anda mungkin terkena flu.\n"
          ]
        }
      ]
    }
  ]
}